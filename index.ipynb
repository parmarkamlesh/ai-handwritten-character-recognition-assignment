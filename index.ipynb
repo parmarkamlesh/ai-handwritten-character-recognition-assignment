{
 "cells": [
  {
   "cell_type": "code",
   "execution_count": 1,
   "id": "4f393238",
   "metadata": {},
   "outputs": [],
   "source": [
    "import pandas as pd\n",
    "import numpy as np\n",
    "#for image loading progress\n",
    "from tqdm.notebook import tqdm\n",
    "from keras.preprocessing.image import img_to_array, load_img\n",
    "import tensorflow as tf\n",
    "import matplotlib.pyplot as plt\n",
    "#for saving and load model \n",
    "import pickle\n",
    "#time package to calculate time required to train model\n",
    "import time\n",
    "%matplotlib inline\n",
    "import warnings\n",
    "\n",
    "warnings.filterwarnings('ignore')"
   ]
  },
  {
   "cell_type": "code",
   "execution_count": 2,
   "id": "1fcaa100",
   "metadata": {},
   "outputs": [
    {
     "name": "stdout",
     "output_type": "stream",
     "text": [
      "/home/k3xri/Desktop/exm/submission/AI_PRAC_40m\r\n"
     ]
    }
   ],
   "source": [
    "!pwd"
   ]
  },
  {
   "cell_type": "code",
   "execution_count": 3,
   "id": "0694ac6d",
   "metadata": {},
   "outputs": [
    {
     "data": {
      "text/html": [
       "<div>\n",
       "<style scoped>\n",
       "    .dataframe tbody tr th:only-of-type {\n",
       "        vertical-align: middle;\n",
       "    }\n",
       "\n",
       "    .dataframe tbody tr th {\n",
       "        vertical-align: top;\n",
       "    }\n",
       "\n",
       "    .dataframe thead th {\n",
       "        text-align: right;\n",
       "    }\n",
       "</style>\n",
       "<table border=\"1\" class=\"dataframe\">\n",
       "  <thead>\n",
       "    <tr style=\"text-align: right;\">\n",
       "      <th></th>\n",
       "      <th>filename</th>\n",
       "      <th>label</th>\n",
       "    </tr>\n",
       "  </thead>\n",
       "  <tbody>\n",
       "    <tr>\n",
       "      <th>0</th>\n",
       "      <td>0.png</td>\n",
       "      <td>4</td>\n",
       "    </tr>\n",
       "    <tr>\n",
       "      <th>1</th>\n",
       "      <td>1.png</td>\n",
       "      <td>9</td>\n",
       "    </tr>\n",
       "    <tr>\n",
       "      <th>2</th>\n",
       "      <td>2.png</td>\n",
       "      <td>1</td>\n",
       "    </tr>\n",
       "    <tr>\n",
       "      <th>3</th>\n",
       "      <td>3.png</td>\n",
       "      <td>7</td>\n",
       "    </tr>\n",
       "    <tr>\n",
       "      <th>4</th>\n",
       "      <td>4.png</td>\n",
       "      <td>3</td>\n",
       "    </tr>\n",
       "  </tbody>\n",
       "</table>\n",
       "</div>"
      ],
      "text/plain": [
       "  filename  label\n",
       "0    0.png      4\n",
       "1    1.png      9\n",
       "2    2.png      1\n",
       "3    3.png      7\n",
       "4    4.png      3"
      ]
     },
     "execution_count": 3,
     "metadata": {},
     "output_type": "execute_result"
    }
   ],
   "source": [
    "#MNIST dataset is downloaded in locally \n",
    "#data-set link : \n",
    "# https://github.com/parmarkamlesh/ai-handwritten-character-recognition-assignment/blob/master/Train_UQcUa52.zip\n",
    "df = pd.read_csv('Train_UQcUa52/train.csv')\n",
    "df.head()"
   ]
  },
  {
   "cell_type": "code",
   "execution_count": 4,
   "id": "8687e2d8",
   "metadata": {},
   "outputs": [],
   "source": [
    "imagepath='Train_UQcUa52/Images/train/'"
   ]
  },
  {
   "cell_type": "code",
   "execution_count": 5,
   "id": "841903a6",
   "metadata": {},
   "outputs": [
    {
     "data": {
      "application/vnd.jupyter.widget-view+json": {
       "model_id": "8d3ca7fc2a384320bb37390c39261d9e",
       "version_major": 2,
       "version_minor": 0
      },
      "text/plain": [
       "  0%|          | 0/49000 [00:00<?, ?it/s]"
      ]
     },
     "metadata": {},
     "output_type": "display_data"
    }
   ],
   "source": [
    "#Read/load MNIST data set and scale \n",
    "X = np.array([img_to_array(load_img(imagepath+df['filename'][i], target_size=(28,28,1), grayscale=True))\n",
    "              for i in tqdm(range(df.shape[0]))\n",
    "              ]).astype('float32')"
   ]
  },
  {
   "cell_type": "code",
   "execution_count": 6,
   "id": "d719c689",
   "metadata": {},
   "outputs": [],
   "source": [
    "y = df['label']"
   ]
  },
  {
   "cell_type": "code",
   "execution_count": 7,
   "id": "e0deb0fb",
   "metadata": {},
   "outputs": [
    {
     "name": "stdout",
     "output_type": "stream",
     "text": [
      "(49000, 28, 28, 1) (49000,)\n"
     ]
    }
   ],
   "source": [
    "print(X.shape, y.shape)"
   ]
  },
  {
   "cell_type": "code",
   "execution_count": 8,
   "id": "45d8039b",
   "metadata": {},
   "outputs": [
    {
     "name": "stdout",
     "output_type": "stream",
     "text": [
      "4\n"
     ]
    },
    {
     "data": {
      "text/plain": [
       "<matplotlib.image.AxesImage at 0x7fcc44d2dfd0>"
      ]
     },
     "execution_count": 8,
     "metadata": {},
     "output_type": "execute_result"
    },
    {
     "data": {
      "image/png": "[encoded data removed]",
      "text/plain": [
       "<Figure size 432x288 with 1 Axes>"
      ]
     },
     "metadata": {
      "needs_background": "light"
     },
     "output_type": "display_data"
    }
   ],
   "source": [
    "image_index = 0\n",
    "print(y[image_index])\n",
    "plt.imshow(X[image_index].reshape(28,28), cmap='Greys')\n"
   ]
  },
  {
   "cell_type": "code",
   "execution_count": 9,
   "id": "1774aab3",
   "metadata": {},
   "outputs": [
    {
     "name": "stdout",
     "output_type": "stream",
     "text": [
      "2\n"
     ]
    },
    {
     "data": {
      "text/plain": [
       "<matplotlib.image.AxesImage at 0x7fcc44a11070>"
      ]
     },
     "execution_count": 9,
     "metadata": {},
     "output_type": "execute_result"
    },
    {
     "data": {
      "image/png": "[encoded data removed]",
      "text/plain": [
       "<Figure size 432x288 with 1 Axes>"
      ]
     },
     "metadata": {
      "needs_background": "light"
     },
     "output_type": "display_data"
    }
   ],
   "source": [
    "image_index = 10\n",
    "print(y[image_index])\n",
    "plt.imshow(X[image_index].reshape(28,28), cmap='Greys')"
   ]
  },
  {
   "cell_type": "code",
   "execution_count": 10,
   "id": "c1a2e942",
   "metadata": {},
   "outputs": [
    {
     "name": "stdout",
     "output_type": "stream",
     "text": [
      "1\n"
     ]
    },
    {
     "data": {
      "text/plain": [
       "<matplotlib.image.AxesImage at 0x7fcc447f1070>"
      ]
     },
     "execution_count": 10,
     "metadata": {},
     "output_type": "execute_result"
    },
    {
     "data": {
      "image/png": "[encoded data removed]",
      "text/plain": [
       "<Figure size 432x288 with 1 Axes>"
      ]
     },
     "metadata": {
      "needs_background": "light"
     },
     "output_type": "display_data"
    }
   ],
   "source": [
    "image_index = 192\n",
    "print(y[image_index])\n",
    "plt.imshow(X[image_index].reshape(28,28), cmap='Greys')"
   ]
  },
  {
   "cell_type": "code",
   "execution_count": 11,
   "id": "624166d3",
   "metadata": {},
   "outputs": [],
   "source": [
    "from sklearn.model_selection import train_test_split\n",
    "x_train, x_test, y_train, y_test = train_test_split(X, y, test_size=0.25, random_state=42, stratify=np.array(y))"
   ]
  },
  {
   "cell_type": "code",
   "execution_count": 13,
   "id": "3ceab8b2",
   "metadata": {},
   "outputs": [],
   "source": [
    "# image pixel range from 0 to 255,\n",
    "# to train model and improve accuracy i divide pixel by 255\n",
    "x_train /= 255\n",
    "x_test /= 255"
   ]
  },
  {
   "cell_type": "code",
   "execution_count": 14,
   "id": "37fbd042",
   "metadata": {},
   "outputs": [],
   "source": [
    "input_shape = (28,28,1)\n",
    "output_class = 10"
   ]
  },
  {
   "cell_type": "code",
   "execution_count": 15,
   "id": "830e7761",
   "metadata": {},
   "outputs": [],
   "source": [
    "from keras.models import Sequential\n",
    "from keras.layers import Dense, Conv2D, Dropout, Flatten, MaxPooling2D\n",
    "\n",
    "# define the model\n",
    "model = Sequential()\n",
    "#2D Convolution Layer\n",
    "model.add(Conv2D(28, kernel_size=(3,3), input_shape=input_shape))\n",
    "model.add(MaxPooling2D(pool_size=(2,2)))\n",
    "#flatten image.\n",
    "model.add(Flatten())\n",
    "#linear layer all the sample are in linear array\n",
    "model.add(Dense(128, activation=tf.nn.relu))\n",
    "#avoid overfitting droping 30% of data\n",
    "model.add(Dropout(0.3))\n",
    "model.add(Dense(output_class, activation=tf.nn.softmax))\n",
    "\n",
    "model.compile(optimizer='adam', loss='sparse_categorical_crossentropy', metrics='accuracy')"
   ]
  },
  {
   "cell_type": "code",
   "execution_count": 16,
   "id": "a29ae2de",
   "metadata": {},
   "outputs": [
    {
     "data": {
      "text/plain": [
       "<matplotlib.image.AxesImage at 0x7fcc331e6550>"
      ]
     },
     "execution_count": 16,
     "metadata": {},
     "output_type": "execute_result"
    },
    {
     "data": {
      "image/png": "[encoded data removed]",
      "text/plain": [
       "<Figure size 432x288 with 1 Axes>"
      ]
     },
     "metadata": {
      "needs_background": "light"
     },
     "output_type": "display_data"
    }
   ],
   "source": [
    "#understanding dropout\n",
    "import matplotlib.image as mpimg\n",
    "dimg = mpimg.imread('dropout.png')\n",
    "plt.imshow(dimg)"
   ]
  },
  {
   "cell_type": "code",
   "execution_count": 17,
   "id": "cecf9e22",
   "metadata": {},
   "outputs": [
    {
     "name": "stdout",
     "output_type": "stream",
     "text": [
      "Epoch 1/30\n",
      "1149/1149 [==============================] - 41s 35ms/step - loss: 0.2879 - accuracy: 0.9129 - val_loss: 0.1304 - val_accuracy: 0.9607\n",
      "Epoch 2/30\n",
      "1149/1149 [==============================] - 44s 39ms/step - loss: 0.1253 - accuracy: 0.9619 - val_loss: 0.0862 - val_accuracy: 0.9734\n",
      "Epoch 3/30\n",
      "1149/1149 [==============================] - 40s 35ms/step - loss: 0.0885 - accuracy: 0.9710 - val_loss: 0.0804 - val_accuracy: 0.9749\n",
      "Epoch 4/30\n",
      "1149/1149 [==============================] - 42s 37ms/step - loss: 0.0690 - accuracy: 0.9781 - val_loss: 0.0669 - val_accuracy: 0.9812\n",
      "Epoch 5/30\n",
      "1149/1149 [==============================] - 46s 40ms/step - loss: 0.0543 - accuracy: 0.9822 - val_loss: 0.0683 - val_accuracy: 0.9792\n",
      "Epoch 6/30\n",
      "1149/1149 [==============================] - 43s 37ms/step - loss: 0.0433 - accuracy: 0.9853 - val_loss: 0.0698 - val_accuracy: 0.9793\n",
      "Epoch 7/30\n",
      "1149/1149 [==============================] - 44s 38ms/step - loss: 0.0385 - accuracy: 0.9865 - val_loss: 0.0737 - val_accuracy: 0.9805\n",
      "Epoch 8/30\n",
      "1149/1149 [==============================] - 41s 36ms/step - loss: 0.0349 - accuracy: 0.9882 - val_loss: 0.0654 - val_accuracy: 0.9821\n",
      "Epoch 9/30\n",
      "1149/1149 [==============================] - 44s 39ms/step - loss: 0.0298 - accuracy: 0.9898 - val_loss: 0.0655 - val_accuracy: 0.9823\n",
      "Epoch 10/30\n",
      "1149/1149 [==============================] - 43s 38ms/step - loss: 0.0258 - accuracy: 0.9915 - val_loss: 0.0707 - val_accuracy: 0.9819\n",
      "Epoch 11/30\n",
      "1149/1149 [==============================] - 50s 44ms/step - loss: 0.0243 - accuracy: 0.9918 - val_loss: 0.0765 - val_accuracy: 0.9817\n",
      "Epoch 12/30\n",
      "1149/1149 [==============================] - 57s 50ms/step - loss: 0.0242 - accuracy: 0.9920 - val_loss: 0.0782 - val_accuracy: 0.9828\n",
      "Epoch 13/30\n",
      "1149/1149 [==============================] - 54s 47ms/step - loss: 0.0211 - accuracy: 0.9924 - val_loss: 0.0828 - val_accuracy: 0.9818\n",
      "Epoch 14/30\n",
      "1149/1149 [==============================] - 44s 38ms/step - loss: 0.0177 - accuracy: 0.9939 - val_loss: 0.0837 - val_accuracy: 0.9838\n",
      "Epoch 15/30\n",
      "1149/1149 [==============================] - 43s 38ms/step - loss: 0.0186 - accuracy: 0.9930 - val_loss: 0.0777 - val_accuracy: 0.9840\n",
      "Epoch 16/30\n",
      "1149/1149 [==============================] - 38s 33ms/step - loss: 0.0200 - accuracy: 0.9928 - val_loss: 0.0846 - val_accuracy: 0.9825\n",
      "Epoch 17/30\n",
      "1149/1149 [==============================] - 32s 28ms/step - loss: 0.0163 - accuracy: 0.9946 - val_loss: 0.0827 - val_accuracy: 0.9847\n",
      "Epoch 18/30\n",
      "1149/1149 [==============================] - 33s 29ms/step - loss: 0.0182 - accuracy: 0.9941 - val_loss: 0.0828 - val_accuracy: 0.9833\n",
      "Epoch 19/30\n",
      "1149/1149 [==============================] - 32s 28ms/step - loss: 0.0150 - accuracy: 0.9950 - val_loss: 0.0915 - val_accuracy: 0.9833\n",
      "Epoch 20/30\n",
      "1149/1149 [==============================] - 33s 29ms/step - loss: 0.0148 - accuracy: 0.9948 - val_loss: 0.0810 - val_accuracy: 0.9834\n",
      "Epoch 21/30\n",
      "1149/1149 [==============================] - 44s 38ms/step - loss: 0.0142 - accuracy: 0.9951 - val_loss: 0.1007 - val_accuracy: 0.9801\n",
      "Epoch 22/30\n",
      "1149/1149 [==============================] - 46s 40ms/step - loss: 0.0165 - accuracy: 0.9945 - val_loss: 0.0951 - val_accuracy: 0.9798\n",
      "Epoch 23/30\n",
      "1149/1149 [==============================] - 48s 42ms/step - loss: 0.0133 - accuracy: 0.9954 - val_loss: 0.0875 - val_accuracy: 0.9829\n",
      "Epoch 24/30\n",
      "1149/1149 [==============================] - 47s 41ms/step - loss: 0.0147 - accuracy: 0.9949 - val_loss: 0.0970 - val_accuracy: 0.9825\n",
      "Epoch 25/30\n",
      "1149/1149 [==============================] - 42s 37ms/step - loss: 0.0129 - accuracy: 0.9958 - val_loss: 0.0979 - val_accuracy: 0.9851\n",
      "Epoch 26/30\n",
      "1149/1149 [==============================] - 42s 37ms/step - loss: 0.0147 - accuracy: 0.9953 - val_loss: 0.1021 - val_accuracy: 0.9828\n",
      "Epoch 27/30\n",
      "1149/1149 [==============================] - 42s 37ms/step - loss: 0.0108 - accuracy: 0.9964 - val_loss: 0.1005 - val_accuracy: 0.9838\n",
      "Epoch 28/30\n",
      "1149/1149 [==============================] - 43s 38ms/step - loss: 0.0138 - accuracy: 0.9953 - val_loss: 0.1052 - val_accuracy: 0.9838\n",
      "Epoch 29/30\n",
      "1149/1149 [==============================] - 44s 38ms/step - loss: 0.0133 - accuracy: 0.9955 - val_loss: 0.1095 - val_accuracy: 0.9832\n",
      "Epoch 30/30\n",
      "1149/1149 [==============================] - 43s 37ms/step - loss: 0.0129 - accuracy: 0.9957 - val_loss: 0.1228 - val_accuracy: 0.9805\n",
      "Training model took 1343.5477695465088 Seconds\n"
     ]
    }
   ],
   "source": [
    "# train the model\n",
    "start_time = time.time()\n",
    "model.fit(x=x_train, y=y_train, batch_size=32, epochs=30, validation_data=(x_test, y_test))\n",
    "print(\"Training model took %s Seconds\" % (time.time() - start_time))"
   ]
  },
  {
   "cell_type": "markdown",
   "id": "1b483309",
   "metadata": {},
   "source": [
    "# Training time: 22m\n",
    "# Accuracy     : 0.9957\n",
    "# Loss         : 0.0129\n",
    "# Val Loss     : 0.1228\n",
    "# Val Accuracy : 0.9805"
   ]
  },
  {
   "cell_type": "code",
   "execution_count": 25,
   "id": "8192ce57",
   "metadata": {},
   "outputs": [
    {
     "name": "stdout",
     "output_type": "stream",
     "text": [
      "Model: \"sequential\"\n",
      "_________________________________________________________________\n",
      "Layer (type)                 Output Shape              Param #   \n",
      "=================================================================\n",
      "conv2d (Conv2D)              (None, 26, 26, 28)        280       \n",
      "_________________________________________________________________\n",
      "max_pooling2d (MaxPooling2D) (None, 13, 13, 28)        0         \n",
      "_________________________________________________________________\n",
      "flatten (Flatten)            (None, 4732)              0         \n",
      "_________________________________________________________________\n",
      "dense (Dense)                (None, 128)               605824    \n",
      "_________________________________________________________________\n",
      "dropout (Dropout)            (None, 128)               0         \n",
      "_________________________________________________________________\n",
      "dense_1 (Dense)              (None, 10)                1290      \n",
      "=================================================================\n",
      "Total params: 607,394\n",
      "Trainable params: 607,394\n",
      "Non-trainable params: 0\n",
      "_________________________________________________________________\n"
     ]
    }
   ],
   "source": [
    "model.summary()"
   ]
  },
  {
   "cell_type": "code",
   "execution_count": 28,
   "id": "62c7d8fd",
   "metadata": {},
   "outputs": [
    {
     "name": "stdout",
     "output_type": "stream",
     "text": [
      "INFO:tensorflow:Assets written to: kamlesh/assets\n",
      "Predicted output: 1\n"
     ]
    },
    {
     "data": {
      "image/png": "[encoded data removed]",
      "text/plain": [
       "<Figure size 432x288 with 1 Axes>"
      ]
     },
     "metadata": {
      "needs_background": "light"
     },
     "output_type": "display_data"
    }
   ],
   "source": [
    "\n",
    "# path='/home/k3xri/Desktop/exm/submission/AI_PRAC_40m'\n",
    "# model.save_weights(path)\n",
    "# tf.keras.models.save_model(model, 'kamlesh')\n",
    "\n",
    "# image_index = 10\n",
    "# print(\"Original output:\",y_test[image_index])\n",
    "# plt.imshow(x_test[image_index].reshape(28,28), cmap='Greys')\n",
    "# pred = model.predict(x_test[image_index].reshape(1,28,28,1))\n",
    "# print(\"Predicted output:\", pred.argmax())"
   ]
  },
  {
   "cell_type": "code",
   "execution_count": 17,
   "id": "e02a9770",
   "metadata": {},
   "outputs": [],
   "source": [
    "#Load saved model later if required\n",
    "from keras.models import load_model\n",
    "model =load_model('kamlesh')\n",
    "#print(model)"
   ]
  },
  {
   "cell_type": "markdown",
   "id": "8a711303",
   "metadata": {},
   "source": [
    "## Testing model"
   ]
  },
  {
   "cell_type": "code",
   "execution_count": 18,
   "id": "0f0a2f72",
   "metadata": {},
   "outputs": [
    {
     "name": "stdout",
     "output_type": "stream",
     "text": [
      "Predicted output: 8\n"
     ]
    },
    {
     "data": {
      "image/png": "[encoded data removed]",
      "text/plain": [
       "<Figure size 432x288 with 1 Axes>"
      ]
     },
     "metadata": {
      "needs_background": "light"
     },
     "output_type": "display_data"
    }
   ],
   "source": [
    "image_index = 100\n",
    "# print(\"Original output:\",y_test[image_index])\n",
    "plt.imshow(x_test[image_index].reshape(28,28), cmap='Greys')\n",
    "pred = model.predict(x_test[image_index].reshape(1,28,28,1))\n",
    "print(\"Predicted output:\", pred.argmax())"
   ]
  },
  {
   "cell_type": "code",
   "execution_count": 19,
   "id": "d178fc92",
   "metadata": {},
   "outputs": [
    {
     "name": "stdout",
     "output_type": "stream",
     "text": [
      "383/383 [==============================] - 4s 11ms/step - loss: 0.1228 - accuracy: 0.9805\n",
      "test loss on sample  0.1227836087346077\n",
      "test accuracy 0.9804897904396057\n"
     ]
    }
   ],
   "source": [
    "testloss , testacc = model.evaluate(x_test,y_test)\n",
    "print(\"test loss on sample \",testloss)\n",
    "print(\"test accuracy\", testacc)"
   ]
  },
  {
   "cell_type": "markdown",
   "id": "2a345340",
   "metadata": {},
   "source": [
    "## Testing handwriten digit"
   ]
  },
  {
   "cell_type": "code",
   "execution_count": 20,
   "id": "e500f617",
   "metadata": {},
   "outputs": [
    {
     "name": "stdout",
     "output_type": "stream",
     "text": [
      "Predicted index array: [[0. 1. 0. 0. 0. 0. 0. 0. 0. 0.]]\n",
      "Predicted output: 1\n"
     ]
    },
    {
     "data": {
      "image/png": "[encoded data removed]",
      "text/plain": [
       "<Figure size 432x288 with 1 Axes>"
      ]
     },
     "metadata": {
      "needs_background": "light"
     },
     "output_type": "display_data"
    },
    {
     "data": {
      "image/png": "[encoded data removed]",
      "text/plain": [
       "<Figure size 432x288 with 1 Axes>"
      ]
     },
     "metadata": {
      "needs_background": "light"
     },
     "output_type": "display_data"
    }
   ],
   "source": [
    "plt.figure()\n",
    "plt.imshow(load_img(\"writen_digit_img.png\", target_size=(28,28,1)))\n",
    "plt.xlabel('Loaded image')\n",
    "temp = np.array([img_to_array(load_img(\"writen_digit_img.png\", target_size=(28,28,1), grayscale=True))]).astype('float32')\n",
    "plt.figure()\n",
    "plt.imshow(temp[0].reshape(28,28), cmap='Greys')\n",
    "plt.xlabel('Processed image')\n",
    "pred = model.predict(temp[0].reshape(1,28,28,1))\n",
    "print(\"Predicted index array:\", pred)\n",
    "print(\"Predicted output:\", pred.argmax())\n"
   ]
  },
  {
   "cell_type": "code",
   "execution_count": 21,
   "id": "ef0012c9",
   "metadata": {},
   "outputs": [
    {
     "name": "stdout",
     "output_type": "stream",
     "text": [
      "Predicted index array: [[0. 0. 1. 0. 0. 0. 0. 0. 0. 0.]]\n",
      "Predicted output: 2\n"
     ]
    },
    {
     "data": {
      "image/png": "[encoded data removed]",
      "text/plain": [
       "<Figure size 432x288 with 1 Axes>"
      ]
     },
     "metadata": {
      "needs_background": "light"
     },
     "output_type": "display_data"
    },
    {
     "data": {
      "image/png": "[encoded data removed]",
      "text/plain": [
       "<Figure size 432x288 with 1 Axes>"
      ]
     },
     "metadata": {
      "needs_background": "light"
     },
     "output_type": "display_data"
    }
   ],
   "source": [
    "plt.figure()\n",
    "plt.imshow(load_img(\"writen_digit_black_board.png\", target_size=(28,28,1)))\n",
    "plt.xlabel('Loaded image')\n",
    "temp = np.array([img_to_array(load_img(\"writen_digit_black_board.png\", target_size=(28,28,1), grayscale=True))]).astype('float32')\n",
    "plt.figure()\n",
    "plt.imshow(temp[0].reshape(28,28), cmap='Greys')\n",
    "plt.xlabel('Processed image')\n",
    "pred = model.predict(temp[0].reshape(1,28,28,1))\n",
    "print(\"Predicted index array:\", pred)\n",
    "print(\"Predicted output:\", pred.argmax())\n"
   ]
  },
  {
   "cell_type": "code",
   "execution_count": null,
   "id": "165edb07",
   "metadata": {},
   "outputs": [],
   "source": []
  }
 ],
 "metadata": {
  "kernelspec": {
   "display_name": "Python 3",
   "language": "python",
   "name": "python3"
  },
  "language_info": {
   "codemirror_mode": {
    "name": "ipython",
    "version": 3
   },
   "file_extension": ".py",
   "mimetype": "text/x-python",
   "name": "python",
   "nbconvert_exporter": "python",
   "pygments_lexer": "ipython3",
   "version": "3.8.8"
  }
 },
 "nbformat": 4,
 "nbformat_minor": 5
}
