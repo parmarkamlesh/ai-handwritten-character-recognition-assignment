{
 "cells": [
  {
   "cell_type": "code",
   "execution_count": 2,
   "id": "4f393238",
   "metadata": {},
   "outputs": [],
   "source": [
    "import pandas as pd\n",
    "import numpy as np\n",
    "from tqdm.notebook import tqdm\n",
    "from keras.preprocessing.image import img_to_array, load_img\n",
    "import tensorflow as tf\n",
    "import matplotlib.pyplot as plt\n",
    "#time package to calculate time required to train model\n",
    "import time\n",
    "%matplotlib inline\n",
    "import warnings\n",
    "\n",
    "warnings.filterwarnings('ignore')"
   ]
  },
  {
   "cell_type": "code",
   "execution_count": 3,
   "id": "1fcaa100",
   "metadata": {},
   "outputs": [
    {
     "name": "stdout",
     "output_type": "stream",
     "text": [
      "/home/k3xri/Desktop/exm/submission/AI_PRAC_40m\r\n"
     ]
    }
   ],
   "source": [
    "!pwd"
   ]
  },
  {
   "cell_type": "code",
   "execution_count": 4,
   "id": "0694ac6d",
   "metadata": {},
   "outputs": [
    {
     "data": {
      "text/html": [
       "<div>\n",
       "<style scoped>\n",
       "    .dataframe tbody tr th:only-of-type {\n",
       "        vertical-align: middle;\n",
       "    }\n",
       "\n",
       "    .dataframe tbody tr th {\n",
       "        vertical-align: top;\n",
       "    }\n",
       "\n",
       "    .dataframe thead th {\n",
       "        text-align: right;\n",
       "    }\n",
       "</style>\n",
       "<table border=\"1\" class=\"dataframe\">\n",
       "  <thead>\n",
       "    <tr style=\"text-align: right;\">\n",
       "      <th></th>\n",
       "      <th>filename</th>\n",
       "      <th>label</th>\n",
       "    </tr>\n",
       "  </thead>\n",
       "  <tbody>\n",
       "    <tr>\n",
       "      <th>0</th>\n",
       "      <td>0.png</td>\n",
       "      <td>4</td>\n",
       "    </tr>\n",
       "    <tr>\n",
       "      <th>1</th>\n",
       "      <td>1.png</td>\n",
       "      <td>9</td>\n",
       "    </tr>\n",
       "    <tr>\n",
       "      <th>2</th>\n",
       "      <td>2.png</td>\n",
       "      <td>1</td>\n",
       "    </tr>\n",
       "    <tr>\n",
       "      <th>3</th>\n",
       "      <td>3.png</td>\n",
       "      <td>7</td>\n",
       "    </tr>\n",
       "    <tr>\n",
       "      <th>4</th>\n",
       "      <td>4.png</td>\n",
       "      <td>3</td>\n",
       "    </tr>\n",
       "  </tbody>\n",
       "</table>\n",
       "</div>"
      ],
      "text/plain": [
       "  filename  label\n",
       "0    0.png      4\n",
       "1    1.png      9\n",
       "2    2.png      1\n",
       "3    3.png      7\n",
       "4    4.png      3"
      ]
     },
     "execution_count": 4,
     "metadata": {},
     "output_type": "execute_result"
    }
   ],
   "source": [
    "#MNIST dataset is downloaded in locally \n",
    "df = pd.read_csv('Train_UQcUa52/train.csv')\n",
    "df.head()"
   ]
  },
  {
   "cell_type": "code",
   "execution_count": 5,
   "id": "8687e2d8",
   "metadata": {},
   "outputs": [],
   "source": [
    "imagepath='Train_UQcUa52/Images/train/'"
   ]
  },
  {
   "cell_type": "code",
   "execution_count": 6,
   "id": "841903a6",
   "metadata": {},
   "outputs": [
    {
     "data": {
      "application/vnd.jupyter.widget-view+json": {
       "model_id": "71a7251967044434a257a30ca6c36774",
       "version_major": 2,
       "version_minor": 0
      },
      "text/plain": [
       "  0%|          | 0/49000 [00:00<?, ?it/s]"
      ]
     },
     "metadata": {},
     "output_type": "display_data"
    }
   ],
   "source": [
    "#Read/load MNIST data set and scale \n",
    "X = np.array([img_to_array(load_img(imagepath+df['filename'][i], target_size=(28,28,1), grayscale=True))\n",
    "              for i in tqdm(range(df.shape[0]))\n",
    "              ]).astype('float32')"
   ]
  },
  {
   "cell_type": "code",
   "execution_count": 7,
   "id": "d719c689",
   "metadata": {},
   "outputs": [],
   "source": [
    "y = df['label']"
   ]
  },
  {
   "cell_type": "code",
   "execution_count": 8,
   "id": "e0deb0fb",
   "metadata": {},
   "outputs": [
    {
     "name": "stdout",
     "output_type": "stream",
     "text": [
      "(49000, 28, 28, 1) (49000,)\n"
     ]
    }
   ],
   "source": [
    "print(X.shape, y.shape)"
   ]
  },
  {
   "cell_type": "code",
   "execution_count": 9,
   "id": "45d8039b",
   "metadata": {},
   "outputs": [
    {
     "name": "stdout",
     "output_type": "stream",
     "text": [
      "4\n"
     ]
    },
    {
     "data": {
      "text/plain": [
       "<matplotlib.image.AxesImage at 0x7f0fdf8ef0a0>"
      ]
     },
     "execution_count": 9,
     "metadata": {},
     "output_type": "execute_result"
    },
    {
     "data": {
      "image/png": "[encoded data removed]",
      "text/plain": [
       "<Figure size 432x288 with 1 Axes>"
      ]
     },
     "metadata": {
      "needs_background": "light"
     },
     "output_type": "display_data"
    }
   ],
   "source": [
    "image_index = 0\n",
    "print(y[image_index])\n",
    "plt.imshow(X[image_index].reshape(28,28), cmap='Greys')\n"
   ]
  },
  {
   "cell_type": "code",
   "execution_count": 10,
   "id": "1774aab3",
   "metadata": {},
   "outputs": [
    {
     "name": "stdout",
     "output_type": "stream",
     "text": [
      "2\n"
     ]
    },
    {
     "data": {
      "text/plain": [
       "<matplotlib.image.AxesImage at 0x7f0fdf8940a0>"
      ]
     },
     "execution_count": 10,
     "metadata": {},
     "output_type": "execute_result"
    },
    {
     "data": {
      "image/png": "[encoded data removed]",
      "text/plain": [
       "<Figure size 432x288 with 1 Axes>"
      ]
     },
     "metadata": {
      "needs_background": "light"
     },
     "output_type": "display_data"
    }
   ],
   "source": [
    "image_index = 10\n",
    "print(y[image_index])\n",
    "plt.imshow(X[image_index].reshape(28,28), cmap='Greys')"
   ]
  },
  {
   "cell_type": "code",
   "execution_count": 11,
   "id": "c1a2e942",
   "metadata": {},
   "outputs": [
    {
     "name": "stdout",
     "output_type": "stream",
     "text": [
      "1\n"
     ]
    },
    {
     "data": {
      "text/plain": [
       "<matplotlib.image.AxesImage at 0x7f0fdf7750a0>"
      ]
     },
     "execution_count": 11,
     "metadata": {},
     "output_type": "execute_result"
    },
    {
     "data": {
      "image/png": "[encoded data removed]",
      "text/plain": [
       "<Figure size 432x288 with 1 Axes>"
      ]
     },
     "metadata": {
      "needs_background": "light"
     },
     "output_type": "display_data"
    }
   ],
   "source": [
    "image_index = 192\n",
    "print(y[image_index])\n",
    "plt.imshow(X[image_index].reshape(28,28), cmap='Greys')"
   ]
  },
  {
   "cell_type": "code",
   "execution_count": 12,
   "id": "624166d3",
   "metadata": {},
   "outputs": [],
   "source": [
    "from sklearn.model_selection import train_test_split\n",
    "x_train, x_test, y_train, y_test = train_test_split(X, y, test_size=0.25, random_state=42, stratify=np.array(y))"
   ]
  },
  {
   "cell_type": "code",
   "execution_count": 21,
   "id": "3ceab8b2",
   "metadata": {},
   "outputs": [],
   "source": [
    "#cant understand what youtuber did\n",
    "x_train /= 255\n",
    "x_test /= 255"
   ]
  },
  {
   "cell_type": "code",
   "execution_count": 15,
   "id": "37fbd042",
   "metadata": {},
   "outputs": [],
   "source": [
    "input_shape = (28,28,1)\n",
    "output_class = 10"
   ]
  },
  {
   "cell_type": "code",
   "execution_count": 16,
   "id": "830e7761",
   "metadata": {},
   "outputs": [],
   "source": [
    "from keras.models import Sequential\n",
    "from keras.layers import Dense, Conv2D, Dropout, Flatten, MaxPooling2D\n",
    "\n",
    "# define the model\n",
    "model = Sequential()\n",
    "model.add(Conv2D(28, kernel_size=(3,3), input_shape=input_shape))\n",
    "model.add(MaxPooling2D(pool_size=(2,2)))\n",
    "model.add(Flatten())\n",
    "model.add(Dense(128, activation=tf.nn.relu))\n",
    "model.add(Dropout(0.3))\n",
    "model.add(Dense(output_class, activation=tf.nn.softmax))\n",
    "\n",
    "model.compile(optimizer='adam', loss='sparse_categorical_crossentropy', metrics='accuracy')"
   ]
  },
  {
   "cell_type": "code",
   "execution_count": 17,
   "id": "cecf9e22",
   "metadata": {},
   "outputs": [
    {
     "name": "stdout",
     "output_type": "stream",
     "text": [
      "Epoch 1/30\n",
      "1149/1149 [==============================] - 38s 32ms/step - loss: 0.2870 - accuracy: 0.9136 - val_loss: 0.1175 - val_accuracy: 0.9655\n",
      "Epoch 2/30\n",
      "1149/1149 [==============================] - 39s 34ms/step - loss: 0.1215 - accuracy: 0.9625 - val_loss: 0.0855 - val_accuracy: 0.9740\n",
      "Epoch 3/30\n",
      "1149/1149 [==============================] - 37s 32ms/step - loss: 0.0877 - accuracy: 0.9725 - val_loss: 0.0766 - val_accuracy: 0.9755\n",
      "Epoch 4/30\n",
      "1149/1149 [==============================] - 36s 32ms/step - loss: 0.0676 - accuracy: 0.9778 - val_loss: 0.0718 - val_accuracy: 0.9775\n",
      "Epoch 5/30\n",
      "1149/1149 [==============================] - 39s 34ms/step - loss: 0.0540 - accuracy: 0.9823 - val_loss: 0.0646 - val_accuracy: 0.9815\n",
      "Epoch 6/30\n",
      "1149/1149 [==============================] - 42s 37ms/step - loss: 0.0471 - accuracy: 0.9848 - val_loss: 0.0774 - val_accuracy: 0.9767\n",
      "Epoch 7/30\n",
      "1149/1149 [==============================] - 40s 35ms/step - loss: 0.0387 - accuracy: 0.9870 - val_loss: 0.0708 - val_accuracy: 0.9811\n",
      "Epoch 8/30\n",
      "1149/1149 [==============================] - 39s 34ms/step - loss: 0.0355 - accuracy: 0.9877 - val_loss: 0.0661 - val_accuracy: 0.9818\n",
      "Epoch 9/30\n",
      "1149/1149 [==============================] - 39s 34ms/step - loss: 0.0289 - accuracy: 0.9902 - val_loss: 0.0775 - val_accuracy: 0.9816\n",
      "Epoch 10/30\n",
      "1149/1149 [==============================] - 39s 34ms/step - loss: 0.0279 - accuracy: 0.9903 - val_loss: 0.0722 - val_accuracy: 0.9833\n",
      "Epoch 11/30\n",
      "1149/1149 [==============================] - 39s 34ms/step - loss: 0.0237 - accuracy: 0.9919 - val_loss: 0.0751 - val_accuracy: 0.9820\n",
      "Epoch 12/30\n",
      "1149/1149 [==============================] - 39s 34ms/step - loss: 0.0223 - accuracy: 0.9921 - val_loss: 0.0771 - val_accuracy: 0.9817\n",
      "Epoch 13/30\n",
      "1149/1149 [==============================] - 39s 34ms/step - loss: 0.0253 - accuracy: 0.9915 - val_loss: 0.0729 - val_accuracy: 0.9826\n",
      "Epoch 14/30\n",
      "1149/1149 [==============================] - 38s 33ms/step - loss: 0.0196 - accuracy: 0.9930 - val_loss: 0.0781 - val_accuracy: 0.9830\n",
      "Epoch 15/30\n",
      "1149/1149 [==============================] - 39s 34ms/step - loss: 0.0171 - accuracy: 0.9942 - val_loss: 0.0848 - val_accuracy: 0.9842\n",
      "Epoch 16/30\n",
      "1149/1149 [==============================] - 42s 36ms/step - loss: 0.0201 - accuracy: 0.9931 - val_loss: 0.0816 - val_accuracy: 0.9842\n",
      "Epoch 17/30\n",
      "1149/1149 [==============================] - 40s 35ms/step - loss: 0.0178 - accuracy: 0.9941 - val_loss: 0.0926 - val_accuracy: 0.9801\n",
      "Epoch 18/30\n",
      "1149/1149 [==============================] - 40s 35ms/step - loss: 0.0156 - accuracy: 0.9946 - val_loss: 0.0879 - val_accuracy: 0.9839\n",
      "Epoch 19/30\n",
      "1149/1149 [==============================] - 48s 42ms/step - loss: 0.0169 - accuracy: 0.9937 - val_loss: 0.0926 - val_accuracy: 0.9811\n",
      "Epoch 20/30\n",
      "1149/1149 [==============================] - 66s 57ms/step - loss: 0.0156 - accuracy: 0.9947 - val_loss: 0.0801 - val_accuracy: 0.9838\n",
      "Epoch 21/30\n",
      "1149/1149 [==============================] - 59s 51ms/step - loss: 0.0142 - accuracy: 0.9953 - val_loss: 0.0851 - val_accuracy: 0.9838\n",
      "Epoch 22/30\n",
      "1149/1149 [==============================] - 57s 49ms/step - loss: 0.0147 - accuracy: 0.9953 - val_loss: 0.0982 - val_accuracy: 0.9816\n",
      "Epoch 23/30\n",
      "1149/1149 [==============================] - 50s 43ms/step - loss: 0.0151 - accuracy: 0.9944 - val_loss: 0.0996 - val_accuracy: 0.9829\n",
      "Epoch 24/30\n",
      "1149/1149 [==============================] - 44s 38ms/step - loss: 0.0145 - accuracy: 0.9950 - val_loss: 0.0945 - val_accuracy: 0.9839\n",
      "Epoch 25/30\n",
      "1149/1149 [==============================] - 38s 33ms/step - loss: 0.0139 - accuracy: 0.9951 - val_loss: 0.0962 - val_accuracy: 0.9838\n",
      "Epoch 26/30\n",
      "1149/1149 [==============================] - 36s 32ms/step - loss: 0.0134 - accuracy: 0.9959 - val_loss: 0.0866 - val_accuracy: 0.9842\n",
      "Epoch 27/30\n",
      "1149/1149 [==============================] - 37s 33ms/step - loss: 0.0109 - accuracy: 0.9962 - val_loss: 0.1069 - val_accuracy: 0.9833\n",
      "Epoch 28/30\n",
      "1149/1149 [==============================] - 37s 33ms/step - loss: 0.0146 - accuracy: 0.9957 - val_loss: 0.1043 - val_accuracy: 0.9833\n",
      "Epoch 29/30\n",
      "1149/1149 [==============================] - 39s 34ms/step - loss: 0.0126 - accuracy: 0.9955 - val_loss: 0.1008 - val_accuracy: 0.9841\n",
      "Epoch 30/30\n",
      "1149/1149 [==============================] - 38s 33ms/step - loss: 0.0112 - accuracy: 0.9962 - val_loss: 0.1074 - val_accuracy: 0.9845\n",
      "Training model took 1283.099246263504 Seconds\n"
     ]
    }
   ],
   "source": [
    "# train the model\n",
    "start_time = time.time()\n",
    "model.fit(x=x_train, y=y_train, batch_size=32, epochs=30, validation_data=(x_test, y_test))\n",
    "print(\"Training model took %s Seconds\" % (time.time() - start_time))"
   ]
  },
  {
   "cell_type": "markdown",
   "id": "1b483309",
   "metadata": {},
   "source": [
    "#Training model took 1283.099246263504 Seconds"
   ]
  },
  {
   "cell_type": "code",
   "execution_count": 24,
   "id": "62c7d8fd",
   "metadata": {},
   "outputs": [
    {
     "ename": "AttributeError",
     "evalue": "'Sequential' object has no attribute 'evalute'",
     "output_type": "error",
     "traceback": [
      "\u001b[0;31m---------------------------------------------------------------------------\u001b[0m",
      "\u001b[0;31mAttributeError\u001b[0m                            Traceback (most recent call last)",
      "\u001b[0;32m<ipython-input-24-9d8693681968>\u001b[0m in \u001b[0;36m<module>\u001b[0;34m\u001b[0m\n\u001b[0;32m----> 1\u001b[0;31m \u001b[0mmodel\u001b[0m\u001b[0;34m.\u001b[0m\u001b[0mevalute\u001b[0m\u001b[0;34m(\u001b[0m\u001b[0;34m)\u001b[0m\u001b[0;34m\u001b[0m\u001b[0;34m\u001b[0m\u001b[0m\n\u001b[0m\u001b[1;32m      2\u001b[0m \u001b[0mimage_index\u001b[0m \u001b[0;34m=\u001b[0m \u001b[0;36m10\u001b[0m\u001b[0;34m\u001b[0m\u001b[0;34m\u001b[0m\u001b[0m\n\u001b[1;32m      3\u001b[0m \u001b[0;31m# print(\"Original output:\",y_test[image_index])\u001b[0m\u001b[0;34m\u001b[0m\u001b[0;34m\u001b[0m\u001b[0;34m\u001b[0m\u001b[0m\n\u001b[1;32m      4\u001b[0m \u001b[0mplt\u001b[0m\u001b[0;34m.\u001b[0m\u001b[0mimshow\u001b[0m\u001b[0;34m(\u001b[0m\u001b[0mx_test\u001b[0m\u001b[0;34m[\u001b[0m\u001b[0mimage_index\u001b[0m\u001b[0;34m]\u001b[0m\u001b[0;34m.\u001b[0m\u001b[0mreshape\u001b[0m\u001b[0;34m(\u001b[0m\u001b[0;36m28\u001b[0m\u001b[0;34m,\u001b[0m\u001b[0;36m28\u001b[0m\u001b[0;34m)\u001b[0m\u001b[0;34m,\u001b[0m \u001b[0mcmap\u001b[0m\u001b[0;34m=\u001b[0m\u001b[0;34m'Greys'\u001b[0m\u001b[0;34m)\u001b[0m\u001b[0;34m\u001b[0m\u001b[0;34m\u001b[0m\u001b[0m\n\u001b[1;32m      5\u001b[0m \u001b[0mpred\u001b[0m \u001b[0;34m=\u001b[0m \u001b[0mmodel\u001b[0m\u001b[0;34m.\u001b[0m\u001b[0mpredict\u001b[0m\u001b[0;34m(\u001b[0m\u001b[0mx_test\u001b[0m\u001b[0;34m[\u001b[0m\u001b[0mimage_index\u001b[0m\u001b[0;34m]\u001b[0m\u001b[0;34m.\u001b[0m\u001b[0mreshape\u001b[0m\u001b[0;34m(\u001b[0m\u001b[0;36m1\u001b[0m\u001b[0;34m,\u001b[0m\u001b[0;36m28\u001b[0m\u001b[0;34m,\u001b[0m\u001b[0;36m28\u001b[0m\u001b[0;34m,\u001b[0m\u001b[0;36m1\u001b[0m\u001b[0;34m)\u001b[0m\u001b[0;34m)\u001b[0m\u001b[0;34m\u001b[0m\u001b[0;34m\u001b[0m\u001b[0m\n",
      "\u001b[0;31mAttributeError\u001b[0m: 'Sequential' object has no attribute 'evalute'"
     ]
    }
   ],
   "source": [
    "image_index = 10\n",
    "# print(\"Original output:\",y_test[image_index])\n",
    "plt.imshow(x_test[image_index].reshape(28,28), cmap='Greys')\n",
    "pred = model.predict(x_test[image_index].reshape(1,28,28,1))\n",
    "print(\"Predicted output:\", pred.argmax())"
   ]
  },
  {
   "cell_type": "code",
   "execution_count": 19,
   "id": "0f0a2f72",
   "metadata": {},
   "outputs": [
    {
     "name": "stdout",
     "output_type": "stream",
     "text": [
      "Predicted output: 8\n"
     ]
    },
    {
     "data": {
      "image/png": "[encoded data removed]",
      "text/plain": [
       "<Figure size 432x288 with 1 Axes>"
      ]
     },
     "metadata": {
      "needs_background": "light"
     },
     "output_type": "display_data"
    }
   ],
   "source": [
    "image_index = 100\n",
    "# print(\"Original output:\",y_test[image_index])\n",
    "plt.imshow(x_test[image_index].reshape(28,28), cmap='Greys')\n",
    "pred = model.predict(x_test[image_index].reshape(1,28,28,1))\n",
    "print(\"Predicted output:\", pred.argmax())"
   ]
  },
  {
   "cell_type": "code",
   "execution_count": 26,
   "id": "d178fc92",
   "metadata": {},
   "outputs": [
    {
     "name": "stdout",
     "output_type": "stream",
     "text": [
      "383/383 [==============================] - 4s 11ms/step - loss: 3.3432 - accuracy: 0.1126\n",
      "test loss on sample  3.3432462215423584\n",
      "test accuracy 0.11257142573595047\n"
     ]
    }
   ],
   "source": [
    "testloss , testacc = model.evaluate(x_test,y_test)\n",
    "print(\"test loss on sample \",testloss)\n",
    "print(\"test accuracy\", testacc)"
   ]
  },
  {
   "cell_type": "code",
   "execution_count": 46,
   "id": "e500f617",
   "metadata": {},
   "outputs": [
    {
     "name": "stdout",
     "output_type": "stream",
     "text": [
      "Predicted index array: [[0. 1. 0. 0. 0. 0. 0. 0. 0. 0.]]\n",
      "Predicted output: 1\n"
     ]
    },
    {
     "data": {
      "image/png": "[encoded data removed]",
      "text/plain": [
       "<Figure size 432x288 with 1 Axes>"
      ]
     },
     "metadata": {
      "needs_background": "light"
     },
     "output_type": "display_data"
    },
    {
     "data": {
      "image/png": "[encoded data removed]",
      "text/plain": [
       "<Figure size 432x288 with 1 Axes>"
      ]
     },
     "metadata": {
      "needs_background": "light"
     },
     "output_type": "display_data"
    }
   ],
   "source": [
    "plt.figure()\n",
    "plt.imshow(load_img(\"test_image5.jpg\", target_size=(28,28,1)))\n",
    "plt.xlabel('Loaded image')\n",
    "temp = np.array([img_to_array(load_img(\"test_image5.jpg\", target_size=(28,28,1), grayscale=True))]).astype('float32')\n",
    "plt.figure()\n",
    "plt.imshow(temp[0].reshape(28,28), cmap='Greys')\n",
    "plt.xlabel('Processed image')\n",
    "pred = model.predict(temp[0].reshape(1,28,28,1))\n",
    "print(\"Predicted index array:\", pred)\n",
    "print(\"Predicted output:\", pred.argmax())\n"
   ]
  },
  {
   "cell_type": "code",
   "execution_count": null,
   "id": "ef0012c9",
   "metadata": {},
   "outputs": [],
   "source": []
  }
 ],
 "metadata": {
  "kernelspec": {
   "display_name": "Python 3",
   "language": "python",
   "name": "python3"
  },
  "language_info": {
   "codemirror_mode": {
    "name": "ipython",
    "version": 3
   },
   "file_extension": ".py",
   "mimetype": "text/x-python",
   "name": "python",
   "nbconvert_exporter": "python",
   "pygments_lexer": "ipython3",
   "version": "3.8.8"
  }
 },
 "nbformat": 4,
 "nbformat_minor": 5
}
